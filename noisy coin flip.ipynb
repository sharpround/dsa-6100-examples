{
 "cells": [
  {
   "cell_type": "markdown",
   "metadata": {},
   "source": [
    "We need to be able to take a series of observations and check the likelihood of observing those outcomes for all our hypotheses of interest.\n",
    "\n",
    "Our hypotheses will be a list of probabilities for the bias in the coin--each value represents the chance that the coin will come up \"heads\".\n",
    "\n",
    "The measurement noise is simply a fixed value representing the probability that we will observe a different result than the actual one. "
   ]
  },
  {
   "cell_type": "code",
   "execution_count": 71,
   "metadata": {},
   "outputs": [],
   "source": [
    "library(ggplot2)"
   ]
  },
  {
   "cell_type": "code",
   "execution_count": 88,
   "metadata": {},
   "outputs": [],
   "source": [
    "y  <- 0.1\n",
    "hypos  <- seq(0, 1, 0.01)\n",
    "\n",
    "likelihood  <- function(obs, hypos, noise) {\n",
    "    # chance of getting a heads\n",
    "    p  <- (1-noise)*hypos + noise*(1-hypos)\n",
    "    \n",
    "    if (obs) {\n",
    "      return(p)  \n",
    "    } else {\n",
    "        return(1-p)\n",
    "    }\n",
    "}\n",
    "\n",
    "\n",
    "normalize_belief  <- function(belief) {\n",
    "    return(belief/sum(belief))\n",
    "}\n",
    "\n",
    "belief  <- rep(1, length(hypos))\n",
    "\n",
    "belief  <- normalize_belief(belief)"
   ]
  },
  {
   "cell_type": "code",
   "execution_count": 89,
   "metadata": {},
   "outputs": [],
   "source": [
    "flips  <- c(T, T, T, T, T, F, T, T)"
   ]
  },
  {
   "cell_type": "code",
   "execution_count": 90,
   "metadata": {},
   "outputs": [],
   "source": [
    "for (f in flips) {\n",
    "    l  <- likelihood(f, hypos, 1.0)\n",
    "    belief  <- belief*l\n",
    "}\n",
    "belief  <- normalize_belief(belief)"
   ]
  },
  {
   "cell_type": "code",
   "execution_count": 92,
   "metadata": {},
   "outputs": [
    {
     "name": "stderr",
     "output_type": "stream",
     "text": [
      "Warning message in as.data.frame.numeric(hypos, belief):\n",
      "\"'row.names' is not a character vector of length 101 -- omitting it. Will be an error!\""
     ]
    },
    {
     "data": {},
     "metadata": {},
     "output_type": "display_data"
    },
    {
     "data": {
      "image/png": "[encoded data removed]",
      "text/plain": [
       "plot without title"
      ]
     },
     "metadata": {},
     "output_type": "display_data"
    }
   ],
   "source": [
    "d  <- as.data.frame(hypos, belief)\n",
    "ggplot(data = d, aes(x = hypos, y = belief)) +\n",
    "      geom_line()\n",
    "\n",
    "# plot(l)"
   ]
  },
  {
   "cell_type": "code",
   "execution_count": null,
   "metadata": {},
   "outputs": [],
   "source": []
  }
 ],
 "metadata": {
  "kernelspec": {
   "display_name": "R",
   "language": "R",
   "name": "ir"
  },
  "language_info": {
   "codemirror_mode": "r",
   "file_extension": ".r",
   "mimetype": "text/x-r-source",
   "name": "R",
   "pygments_lexer": "r",
   "version": "3.4.2"
  }
 },
 "nbformat": 4,
 "nbformat_minor": 2
}
